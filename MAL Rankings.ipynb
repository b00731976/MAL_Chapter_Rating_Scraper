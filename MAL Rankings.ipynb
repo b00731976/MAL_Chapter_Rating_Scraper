{
 "cells": [
  {
   "cell_type": "markdown",
   "metadata": {},
   "source": [
    "#### Loading libraries"
   ]
  },
  {
   "cell_type": "code",
   "execution_count": 9,
   "metadata": {},
   "outputs": [],
   "source": [
    "from bs4 import BeautifulSoup\n",
    "import requests\n",
    "import pandas as pd\n",
    "import numpy as np\n",
    "import matplotlib.pyplot as plt\n",
    "import re\n",
    "import time"
   ]
  },
  {
   "cell_type": "markdown",
   "metadata": {},
   "source": [
    "#### >> Input Parameters"
   ]
  },
  {
   "cell_type": "code",
   "execution_count": 10,
   "metadata": {},
   "outputs": [],
   "source": [
    "## Write the name of the manga in the same format as the default manga_name format \n",
    "## Whether it's JP or EN depends on the manga\n",
    "manga_name = 'Shingeki+no+Kyojin'\n",
    "## Exact total amount of chapters to-date (mandatory)\n",
    "max_chapters = 139"
   ]
  },
  {
   "cell_type": "markdown",
   "metadata": {},
   "source": [
    "#### Dataframe Definition"
   ]
  },
  {
   "cell_type": "code",
   "execution_count": 11,
   "metadata": {},
   "outputs": [],
   "source": [
    "chapters_df = pd.DataFrame (columns = ['manga','chapter_num','link','total_number','mean','std'])"
   ]
  },
  {
   "cell_type": "code",
   "execution_count": 12,
   "metadata": {},
   "outputs": [
    {
     "data": {
      "text/html": [
       "<div>\n",
       "<style scoped>\n",
       "    .dataframe tbody tr th:only-of-type {\n",
       "        vertical-align: middle;\n",
       "    }\n",
       "\n",
       "    .dataframe tbody tr th {\n",
       "        vertical-align: top;\n",
       "    }\n",
       "\n",
       "    .dataframe thead th {\n",
       "        text-align: right;\n",
       "    }\n",
       "</style>\n",
       "<table border=\"1\" class=\"dataframe\">\n",
       "  <thead>\n",
       "    <tr style=\"text-align: right;\">\n",
       "      <th></th>\n",
       "      <th>manga</th>\n",
       "      <th>chapter_num</th>\n",
       "      <th>link</th>\n",
       "      <th>total_number</th>\n",
       "      <th>mean</th>\n",
       "      <th>std</th>\n",
       "    </tr>\n",
       "  </thead>\n",
       "  <tbody>\n",
       "  </tbody>\n",
       "</table>\n",
       "</div>"
      ],
      "text/plain": [
       "Empty DataFrame\n",
       "Columns: [manga, chapter_num, link, total_number, mean, std]\n",
       "Index: []"
      ]
     },
     "execution_count": 12,
     "metadata": {},
     "output_type": "execute_result"
    }
   ],
   "source": [
    "chapters_df.tail()"
   ]
  },
  {
   "cell_type": "markdown",
   "metadata": {},
   "source": [
    "#### Functions"
   ]
  },
  {
   "cell_type": "code",
   "execution_count": 13,
   "metadata": {},
   "outputs": [],
   "source": [
    "def mal_chapter_finder_function(manga_dataframe, manga_name, max_chapters):\n",
    "    \n",
    "    ### MYANIMELIST SCRAP: Take a dataframe, but with established columns ###\n",
    "    \n",
    "    headers = {\"User-Agent\": \"Mozilla/5.0\"}\n",
    "    cookies = {\"CONSENT\": \"YES+cb.20210721-07-p0.en+FX+410\"}\n",
    "    ## Get all the possible urls\n",
    "    urls = []\n",
    "    for i in range(1, max_chapters+1):\n",
    "        urls.append(\"https://myanimelist.net/forum/search?cat=forum&q=\"+manga_name+\"+Chapter+\"+str(i)+\"+Discussion&u=&uloc=1&loc=-1\")\n",
    "    \n",
    "    ## Go through all the possible urls\n",
    "    for i in urls:\n",
    "        page = requests.get(i, cookies=cookies, headers=headers)\n",
    "        soup = BeautifulSoup(page.content,'html.parser') \n",
    "        \n",
    "        list_link = []\n",
    "        for k in soup.find_all('td', {'class': 'forum_boardrow1'}):\n",
    "            if k.find(text=re.compile(\"Poll:\")): ## making sure that you only take the poll threads\n",
    "                link = k.find('a', href=True)\n",
    "                list_link.append([link['href'], link.text])\n",
    "\n",
    "        ## Keeping only chapter links\n",
    "        list_link = [j for j in list_link if '?topicid=' in j[0]]\n",
    "        \n",
    "        ## Adding the poll results string to the links and cheking if it's in the df to include or not\n",
    "        for k in list_link:\n",
    "            k[0] = k[0]+'&pollresults=1'\n",
    "            if [k][0][0] not in list(manga_dataframe['link']):\n",
    "                manga_dataframe.loc[len(manga_dataframe)+1] = [manga_name, re.findall(r'\\d+', [k][0][1])[0], [k][0][0], np.NaN, np.NaN, np.NaN] ## adding chapter link and extracting the chapter number as well      \n",
    "    \n",
    "    return(manga_dataframe)\n",
    "    \n",
    "    ### Return a dataframe with all the available chapters: Will fill the manga name, chapter_num, link ###"
   ]
  },
  {
   "cell_type": "code",
   "execution_count": 14,
   "metadata": {},
   "outputs": [],
   "source": [
    "def google_chapter_finder_function(manga_dataframe, manga_name, max_chapters):\n",
    "    \n",
    "    ### GOOGLE SCRAP: Take a dataframe, but with established columns ###\n",
    "    ## Gives more results because google's search engine is more powerful than mal seach engine\n",
    "    ## Possible errors might occur if google blocks traffic\n",
    "    \n",
    "    chapters = [str(i) for i in range(1, max_chapters+1)] ## all the available chapters in a string format\n",
    "    headers = {\"User-Agent\": \"Mozilla/5.0\"}\n",
    "    cookies = {\"CONSENT\": \"YES+cb.20210721-07-p0.en+FX+410\"}\n",
    "    \n",
    "    for i in chapters:\n",
    "        if i not in list(manga_dataframe['chapter_num']):\n",
    "            url = 'https://www.google.com/search?q='+manga_name+'+Chapter+'+i+'+Discussion+site:myanimelist.net'\n",
    "            time.sleep(2) # sleeping to avoid google's scraping restrictions\n",
    "            page = requests.get(url, cookies=cookies, headers=headers)                  \n",
    "            soup = BeautifulSoup(page.content, \"html5lib\")\n",
    "            links = soup.findAll(\"a\")\n",
    "            temp_google_links = []\n",
    "            for link in links :\n",
    "                link_href = link.get('href')\n",
    "                if \"url?q=\" in link_href and not \"webcache\" in link_href:\n",
    "                    temp_google_links.append((link.get('href').split(\"?q=\")[1].split(\"&sa=U\")[0]))      \n",
    "            manga_dataframe.loc[len(manga_dataframe)+1] = [manga_name, i, \"https://myanimelist.net/forum/?topicid=\"+temp_google_links[0].split(\"topicid%3D\",1)[1]+\"&pollresults=1\", np.NaN, np.NaN, np.NaN] ## adding chapter link and extracting the chapter number as well\n",
    "    return(manga_dataframe)"
   ]
  },
  {
   "cell_type": "code",
   "execution_count": 15,
   "metadata": {},
   "outputs": [],
   "source": [
    "## A function that returns the total number of voters\n",
    "def chapter_rating_total_number_function(link):\n",
    "    dfs = pd.read_html(link)\n",
    "    total = np.sum(dfs[0][2])\n",
    "    return(total)\n",
    "\n",
    "## A function that returns the mean of the chapters\n",
    "def chapter_rating_mean_function(link):\n",
    "    dfs = pd.read_html(link)\n",
    "    dfs[0][2] = dfs[0][2].replace(np.nan, 0) ## change null values to 0 before calculations\n",
    "    dfs[0][2] = dfs[0][2].astype(np.int64) ## need to convert to int to do calculation below with 1d array\n",
    "    mean = np.mean([1]*dfs[0][2][4] + [2]*dfs[0][2][3] + [3]*dfs[0][2][2] + [4]*dfs[0][2][1] + [5]*dfs[0][2][0])\n",
    "    return(round(mean,2))\n",
    "\n",
    "## A function that returns the std of the chapters\n",
    "def chapter_rating_std_function(link):\n",
    "    dfs = pd.read_html(link)\n",
    "    dfs[0][2] = dfs[0][2].replace(np.nan, 0) ## change null values to 0 before calculations\n",
    "    dfs[0][2] = dfs[0][2].astype(np.int64) ## need to convert to int to do calculation below with 1d array\n",
    "    std = np.std([1]*dfs[0][2][4] + [2]*dfs[0][2][3] + [3]*dfs[0][2][2] + [4]*dfs[0][2][1] + [5]*dfs[0][2][0])\n",
    "    return(round(std,2))"
   ]
  },
  {
   "cell_type": "markdown",
   "metadata": {},
   "source": [
    "#### Reading the poll results - Calculation & Insertion"
   ]
  },
  {
   "cell_type": "code",
   "execution_count": 16,
   "metadata": {},
   "outputs": [
    {
     "data": {
      "text/html": [
       "<div>\n",
       "<style scoped>\n",
       "    .dataframe tbody tr th:only-of-type {\n",
       "        vertical-align: middle;\n",
       "    }\n",
       "\n",
       "    .dataframe tbody tr th {\n",
       "        vertical-align: top;\n",
       "    }\n",
       "\n",
       "    .dataframe thead th {\n",
       "        text-align: right;\n",
       "    }\n",
       "</style>\n",
       "<table border=\"1\" class=\"dataframe\">\n",
       "  <thead>\n",
       "    <tr style=\"text-align: right;\">\n",
       "      <th></th>\n",
       "      <th>manga</th>\n",
       "      <th>chapter_num</th>\n",
       "      <th>link</th>\n",
       "      <th>total_number</th>\n",
       "      <th>mean</th>\n",
       "      <th>std</th>\n",
       "    </tr>\n",
       "  </thead>\n",
       "  <tbody>\n",
       "    <tr>\n",
       "      <th>1</th>\n",
       "      <td>Shingeki+no+Kyojin</td>\n",
       "      <td>3</td>\n",
       "      <td>https://myanimelist.net/forum/?topicid=361329&amp;...</td>\n",
       "      <td>NaN</td>\n",
       "      <td>NaN</td>\n",
       "      <td>NaN</td>\n",
       "    </tr>\n",
       "    <tr>\n",
       "      <th>2</th>\n",
       "      <td>Shingeki+no+Kyojin</td>\n",
       "      <td>138</td>\n",
       "      <td>https://myanimelist.net/forum/?topicid=1903003...</td>\n",
       "      <td>NaN</td>\n",
       "      <td>NaN</td>\n",
       "      <td>NaN</td>\n",
       "    </tr>\n",
       "    <tr>\n",
       "      <th>3</th>\n",
       "      <td>Shingeki+no+Kyojin</td>\n",
       "      <td>120</td>\n",
       "      <td>https://myanimelist.net/forum/?topicid=1795908...</td>\n",
       "      <td>NaN</td>\n",
       "      <td>NaN</td>\n",
       "      <td>NaN</td>\n",
       "    </tr>\n",
       "    <tr>\n",
       "      <th>4</th>\n",
       "      <td>Shingeki+no+Kyojin</td>\n",
       "      <td>130</td>\n",
       "      <td>https://myanimelist.net/forum/?topicid=1850517...</td>\n",
       "      <td>NaN</td>\n",
       "      <td>NaN</td>\n",
       "      <td>NaN</td>\n",
       "    </tr>\n",
       "    <tr>\n",
       "      <th>5</th>\n",
       "      <td>Shingeki+no+Kyojin</td>\n",
       "      <td>111</td>\n",
       "      <td>https://myanimelist.net/forum/?topicid=1750197...</td>\n",
       "      <td>NaN</td>\n",
       "      <td>NaN</td>\n",
       "      <td>NaN</td>\n",
       "    </tr>\n",
       "    <tr>\n",
       "      <th>...</th>\n",
       "      <td>...</td>\n",
       "      <td>...</td>\n",
       "      <td>...</td>\n",
       "      <td>...</td>\n",
       "      <td>...</td>\n",
       "      <td>...</td>\n",
       "    </tr>\n",
       "    <tr>\n",
       "      <th>75</th>\n",
       "      <td>Shingeki+no+Kyojin</td>\n",
       "      <td>132</td>\n",
       "      <td>https://myanimelist.net/forum/?topicid=1863324...</td>\n",
       "      <td>NaN</td>\n",
       "      <td>NaN</td>\n",
       "      <td>NaN</td>\n",
       "    </tr>\n",
       "    <tr>\n",
       "      <th>76</th>\n",
       "      <td>Shingeki+no+Kyojin</td>\n",
       "      <td>133</td>\n",
       "      <td>https://myanimelist.net/forum/?topicid=1868562...</td>\n",
       "      <td>NaN</td>\n",
       "      <td>NaN</td>\n",
       "      <td>NaN</td>\n",
       "    </tr>\n",
       "    <tr>\n",
       "      <th>77</th>\n",
       "      <td>Shingeki+no+Kyojin</td>\n",
       "      <td>134</td>\n",
       "      <td>https://myanimelist.net/forum/?topicid=1874352...</td>\n",
       "      <td>NaN</td>\n",
       "      <td>NaN</td>\n",
       "      <td>NaN</td>\n",
       "    </tr>\n",
       "    <tr>\n",
       "      <th>78</th>\n",
       "      <td>Shingeki+no+Kyojin</td>\n",
       "      <td>136</td>\n",
       "      <td>https://myanimelist.net/forum/?topicid=1887171...</td>\n",
       "      <td>NaN</td>\n",
       "      <td>NaN</td>\n",
       "      <td>NaN</td>\n",
       "    </tr>\n",
       "    <tr>\n",
       "      <th>79</th>\n",
       "      <td>Shingeki+no+Kyojin</td>\n",
       "      <td>137</td>\n",
       "      <td>https://myanimelist.net/forum/?topicid=1895862...</td>\n",
       "      <td>NaN</td>\n",
       "      <td>NaN</td>\n",
       "      <td>NaN</td>\n",
       "    </tr>\n",
       "  </tbody>\n",
       "</table>\n",
       "<p>79 rows × 6 columns</p>\n",
       "</div>"
      ],
      "text/plain": [
       "                 manga chapter_num  \\\n",
       "1   Shingeki+no+Kyojin           3   \n",
       "2   Shingeki+no+Kyojin         138   \n",
       "3   Shingeki+no+Kyojin         120   \n",
       "4   Shingeki+no+Kyojin         130   \n",
       "5   Shingeki+no+Kyojin         111   \n",
       "..                 ...         ...   \n",
       "75  Shingeki+no+Kyojin         132   \n",
       "76  Shingeki+no+Kyojin         133   \n",
       "77  Shingeki+no+Kyojin         134   \n",
       "78  Shingeki+no+Kyojin         136   \n",
       "79  Shingeki+no+Kyojin         137   \n",
       "\n",
       "                                                 link total_number mean  std  \n",
       "1   https://myanimelist.net/forum/?topicid=361329&...          NaN  NaN  NaN  \n",
       "2   https://myanimelist.net/forum/?topicid=1903003...          NaN  NaN  NaN  \n",
       "3   https://myanimelist.net/forum/?topicid=1795908...          NaN  NaN  NaN  \n",
       "4   https://myanimelist.net/forum/?topicid=1850517...          NaN  NaN  NaN  \n",
       "5   https://myanimelist.net/forum/?topicid=1750197...          NaN  NaN  NaN  \n",
       "..                                                ...          ...  ...  ...  \n",
       "75  https://myanimelist.net/forum/?topicid=1863324...          NaN  NaN  NaN  \n",
       "76  https://myanimelist.net/forum/?topicid=1868562...          NaN  NaN  NaN  \n",
       "77  https://myanimelist.net/forum/?topicid=1874352...          NaN  NaN  NaN  \n",
       "78  https://myanimelist.net/forum/?topicid=1887171...          NaN  NaN  NaN  \n",
       "79  https://myanimelist.net/forum/?topicid=1895862...          NaN  NaN  NaN  \n",
       "\n",
       "[79 rows x 6 columns]"
      ]
     },
     "execution_count": 16,
     "metadata": {},
     "output_type": "execute_result"
    }
   ],
   "source": [
    "mal_chapter_finder_function(chapters_df, manga_name, max_chapters)"
   ]
  },
  {
   "cell_type": "code",
   "execution_count": 17,
   "metadata": {},
   "outputs": [
    {
     "data": {
      "text/html": [
       "<div>\n",
       "<style scoped>\n",
       "    .dataframe tbody tr th:only-of-type {\n",
       "        vertical-align: middle;\n",
       "    }\n",
       "\n",
       "    .dataframe tbody tr th {\n",
       "        vertical-align: top;\n",
       "    }\n",
       "\n",
       "    .dataframe thead th {\n",
       "        text-align: right;\n",
       "    }\n",
       "</style>\n",
       "<table border=\"1\" class=\"dataframe\">\n",
       "  <thead>\n",
       "    <tr style=\"text-align: right;\">\n",
       "      <th></th>\n",
       "      <th>manga</th>\n",
       "      <th>chapter_num</th>\n",
       "      <th>link</th>\n",
       "      <th>total_number</th>\n",
       "      <th>mean</th>\n",
       "      <th>std</th>\n",
       "    </tr>\n",
       "  </thead>\n",
       "  <tbody>\n",
       "    <tr>\n",
       "      <th>75</th>\n",
       "      <td>Shingeki+no+Kyojin</td>\n",
       "      <td>132</td>\n",
       "      <td>https://myanimelist.net/forum/?topicid=1863324...</td>\n",
       "      <td>NaN</td>\n",
       "      <td>NaN</td>\n",
       "      <td>NaN</td>\n",
       "    </tr>\n",
       "    <tr>\n",
       "      <th>76</th>\n",
       "      <td>Shingeki+no+Kyojin</td>\n",
       "      <td>133</td>\n",
       "      <td>https://myanimelist.net/forum/?topicid=1868562...</td>\n",
       "      <td>NaN</td>\n",
       "      <td>NaN</td>\n",
       "      <td>NaN</td>\n",
       "    </tr>\n",
       "    <tr>\n",
       "      <th>77</th>\n",
       "      <td>Shingeki+no+Kyojin</td>\n",
       "      <td>134</td>\n",
       "      <td>https://myanimelist.net/forum/?topicid=1874352...</td>\n",
       "      <td>NaN</td>\n",
       "      <td>NaN</td>\n",
       "      <td>NaN</td>\n",
       "    </tr>\n",
       "    <tr>\n",
       "      <th>78</th>\n",
       "      <td>Shingeki+no+Kyojin</td>\n",
       "      <td>136</td>\n",
       "      <td>https://myanimelist.net/forum/?topicid=1887171...</td>\n",
       "      <td>NaN</td>\n",
       "      <td>NaN</td>\n",
       "      <td>NaN</td>\n",
       "    </tr>\n",
       "    <tr>\n",
       "      <th>79</th>\n",
       "      <td>Shingeki+no+Kyojin</td>\n",
       "      <td>137</td>\n",
       "      <td>https://myanimelist.net/forum/?topicid=1895862...</td>\n",
       "      <td>NaN</td>\n",
       "      <td>NaN</td>\n",
       "      <td>NaN</td>\n",
       "    </tr>\n",
       "  </tbody>\n",
       "</table>\n",
       "</div>"
      ],
      "text/plain": [
       "                 manga chapter_num  \\\n",
       "75  Shingeki+no+Kyojin         132   \n",
       "76  Shingeki+no+Kyojin         133   \n",
       "77  Shingeki+no+Kyojin         134   \n",
       "78  Shingeki+no+Kyojin         136   \n",
       "79  Shingeki+no+Kyojin         137   \n",
       "\n",
       "                                                 link total_number mean  std  \n",
       "75  https://myanimelist.net/forum/?topicid=1863324...          NaN  NaN  NaN  \n",
       "76  https://myanimelist.net/forum/?topicid=1868562...          NaN  NaN  NaN  \n",
       "77  https://myanimelist.net/forum/?topicid=1874352...          NaN  NaN  NaN  \n",
       "78  https://myanimelist.net/forum/?topicid=1887171...          NaN  NaN  NaN  \n",
       "79  https://myanimelist.net/forum/?topicid=1895862...          NaN  NaN  NaN  "
      ]
     },
     "execution_count": 17,
     "metadata": {},
     "output_type": "execute_result"
    }
   ],
   "source": [
    "chapters_df.tail()"
   ]
  },
  {
   "cell_type": "code",
   "execution_count": 18,
   "metadata": {},
   "outputs": [
    {
     "data": {
      "text/html": [
       "<div>\n",
       "<style scoped>\n",
       "    .dataframe tbody tr th:only-of-type {\n",
       "        vertical-align: middle;\n",
       "    }\n",
       "\n",
       "    .dataframe tbody tr th {\n",
       "        vertical-align: top;\n",
       "    }\n",
       "\n",
       "    .dataframe thead th {\n",
       "        text-align: right;\n",
       "    }\n",
       "</style>\n",
       "<table border=\"1\" class=\"dataframe\">\n",
       "  <thead>\n",
       "    <tr style=\"text-align: right;\">\n",
       "      <th></th>\n",
       "      <th>manga</th>\n",
       "      <th>chapter_num</th>\n",
       "      <th>link</th>\n",
       "      <th>total_number</th>\n",
       "      <th>mean</th>\n",
       "      <th>std</th>\n",
       "    </tr>\n",
       "  </thead>\n",
       "  <tbody>\n",
       "    <tr>\n",
       "      <th>1</th>\n",
       "      <td>Shingeki+no+Kyojin</td>\n",
       "      <td>3</td>\n",
       "      <td>https://myanimelist.net/forum/?topicid=361329&amp;...</td>\n",
       "      <td>NaN</td>\n",
       "      <td>NaN</td>\n",
       "      <td>NaN</td>\n",
       "    </tr>\n",
       "    <tr>\n",
       "      <th>2</th>\n",
       "      <td>Shingeki+no+Kyojin</td>\n",
       "      <td>138</td>\n",
       "      <td>https://myanimelist.net/forum/?topicid=1903003...</td>\n",
       "      <td>NaN</td>\n",
       "      <td>NaN</td>\n",
       "      <td>NaN</td>\n",
       "    </tr>\n",
       "    <tr>\n",
       "      <th>3</th>\n",
       "      <td>Shingeki+no+Kyojin</td>\n",
       "      <td>120</td>\n",
       "      <td>https://myanimelist.net/forum/?topicid=1795908...</td>\n",
       "      <td>NaN</td>\n",
       "      <td>NaN</td>\n",
       "      <td>NaN</td>\n",
       "    </tr>\n",
       "    <tr>\n",
       "      <th>4</th>\n",
       "      <td>Shingeki+no+Kyojin</td>\n",
       "      <td>130</td>\n",
       "      <td>https://myanimelist.net/forum/?topicid=1850517...</td>\n",
       "      <td>NaN</td>\n",
       "      <td>NaN</td>\n",
       "      <td>NaN</td>\n",
       "    </tr>\n",
       "    <tr>\n",
       "      <th>5</th>\n",
       "      <td>Shingeki+no+Kyojin</td>\n",
       "      <td>111</td>\n",
       "      <td>https://myanimelist.net/forum/?topicid=1750197...</td>\n",
       "      <td>NaN</td>\n",
       "      <td>NaN</td>\n",
       "      <td>NaN</td>\n",
       "    </tr>\n",
       "    <tr>\n",
       "      <th>...</th>\n",
       "      <td>...</td>\n",
       "      <td>...</td>\n",
       "      <td>...</td>\n",
       "      <td>...</td>\n",
       "      <td>...</td>\n",
       "      <td>...</td>\n",
       "    </tr>\n",
       "    <tr>\n",
       "      <th>135</th>\n",
       "      <td>Shingeki+no+Kyojin</td>\n",
       "      <td>94</td>\n",
       "      <td>https://myanimelist.net/forum/?topicid=1623533...</td>\n",
       "      <td>NaN</td>\n",
       "      <td>NaN</td>\n",
       "      <td>NaN</td>\n",
       "    </tr>\n",
       "    <tr>\n",
       "      <th>136</th>\n",
       "      <td>Shingeki+no+Kyojin</td>\n",
       "      <td>95</td>\n",
       "      <td>https://myanimelist.net/forum/?topicid=1634116...</td>\n",
       "      <td>NaN</td>\n",
       "      <td>NaN</td>\n",
       "      <td>NaN</td>\n",
       "    </tr>\n",
       "    <tr>\n",
       "      <th>137</th>\n",
       "      <td>Shingeki+no+Kyojin</td>\n",
       "      <td>96</td>\n",
       "      <td>https://myanimelist.net/forum/?topicid=1645414...</td>\n",
       "      <td>NaN</td>\n",
       "      <td>NaN</td>\n",
       "      <td>NaN</td>\n",
       "    </tr>\n",
       "    <tr>\n",
       "      <th>138</th>\n",
       "      <td>Shingeki+no+Kyojin</td>\n",
       "      <td>98</td>\n",
       "      <td>https://myanimelist.net/forum/?topicid=1670692...</td>\n",
       "      <td>NaN</td>\n",
       "      <td>NaN</td>\n",
       "      <td>NaN</td>\n",
       "    </tr>\n",
       "    <tr>\n",
       "      <th>139</th>\n",
       "      <td>Shingeki+no+Kyojin</td>\n",
       "      <td>139</td>\n",
       "      <td>https://myanimelist.net/forum/?topicid=1912863...</td>\n",
       "      <td>NaN</td>\n",
       "      <td>NaN</td>\n",
       "      <td>NaN</td>\n",
       "    </tr>\n",
       "  </tbody>\n",
       "</table>\n",
       "<p>139 rows × 6 columns</p>\n",
       "</div>"
      ],
      "text/plain": [
       "                  manga chapter_num  \\\n",
       "1    Shingeki+no+Kyojin           3   \n",
       "2    Shingeki+no+Kyojin         138   \n",
       "3    Shingeki+no+Kyojin         120   \n",
       "4    Shingeki+no+Kyojin         130   \n",
       "5    Shingeki+no+Kyojin         111   \n",
       "..                  ...         ...   \n",
       "135  Shingeki+no+Kyojin          94   \n",
       "136  Shingeki+no+Kyojin          95   \n",
       "137  Shingeki+no+Kyojin          96   \n",
       "138  Shingeki+no+Kyojin          98   \n",
       "139  Shingeki+no+Kyojin         139   \n",
       "\n",
       "                                                  link total_number mean  std  \n",
       "1    https://myanimelist.net/forum/?topicid=361329&...          NaN  NaN  NaN  \n",
       "2    https://myanimelist.net/forum/?topicid=1903003...          NaN  NaN  NaN  \n",
       "3    https://myanimelist.net/forum/?topicid=1795908...          NaN  NaN  NaN  \n",
       "4    https://myanimelist.net/forum/?topicid=1850517...          NaN  NaN  NaN  \n",
       "5    https://myanimelist.net/forum/?topicid=1750197...          NaN  NaN  NaN  \n",
       "..                                                 ...          ...  ...  ...  \n",
       "135  https://myanimelist.net/forum/?topicid=1623533...          NaN  NaN  NaN  \n",
       "136  https://myanimelist.net/forum/?topicid=1634116...          NaN  NaN  NaN  \n",
       "137  https://myanimelist.net/forum/?topicid=1645414...          NaN  NaN  NaN  \n",
       "138  https://myanimelist.net/forum/?topicid=1670692...          NaN  NaN  NaN  \n",
       "139  https://myanimelist.net/forum/?topicid=1912863...          NaN  NaN  NaN  \n",
       "\n",
       "[139 rows x 6 columns]"
      ]
     },
     "execution_count": 18,
     "metadata": {},
     "output_type": "execute_result"
    }
   ],
   "source": [
    "google_chapter_finder_function(chapters_df, manga_name, max_chapters)"
   ]
  },
  {
   "cell_type": "code",
   "execution_count": 19,
   "metadata": {
    "scrolled": false
   },
   "outputs": [
    {
     "name": "stdout",
     "output_type": "stream",
     "text": [
      "                  manga chapter_num  \\\n",
      "135  Shingeki+no+Kyojin          94   \n",
      "136  Shingeki+no+Kyojin          95   \n",
      "137  Shingeki+no+Kyojin          96   \n",
      "138  Shingeki+no+Kyojin          98   \n",
      "139  Shingeki+no+Kyojin         139   \n",
      "\n",
      "                                                  link total_number mean  std  \n",
      "135  https://myanimelist.net/forum/?topicid=1623533...          NaN  NaN  NaN  \n",
      "136  https://myanimelist.net/forum/?topicid=1634116...          NaN  NaN  NaN  \n",
      "137  https://myanimelist.net/forum/?topicid=1645414...          NaN  NaN  NaN  \n",
      "138  https://myanimelist.net/forum/?topicid=1670692...          NaN  NaN  NaN  \n",
      "139  https://myanimelist.net/forum/?topicid=1912863...          NaN  NaN  NaN  \n"
     ]
    }
   ],
   "source": [
    "print(chapters_df.tail())\n",
    "chapters_df_temp = chapters_df.copy()"
   ]
  },
  {
   "cell_type": "code",
   "execution_count": 20,
   "metadata": {},
   "outputs": [],
   "source": [
    "## time.sleep is used for break to avoid server restrictions\n",
    "time.sleep(240)"
   ]
  },
  {
   "cell_type": "code",
   "execution_count": 21,
   "metadata": {
    "scrolled": true
   },
   "outputs": [],
   "source": [
    "## Total, mean, std: 3 separate for loops to avoid server restrictions\n",
    "## temporary for i in range(1,len(chapters_df)-1): instead of chapters_df.index\n",
    "## Also seperate the functions for avoiding HMTL errors\n",
    "for i in range(0,len(chapters_df)):\n",
    "    chapters_df.iloc[i,3] = chapter_rating_total_number_function(chapters_df.iloc[i,2])"
   ]
  },
  {
   "cell_type": "code",
   "execution_count": 22,
   "metadata": {},
   "outputs": [],
   "source": [
    "time.sleep(240)"
   ]
  },
  {
   "cell_type": "code",
   "execution_count": 23,
   "metadata": {},
   "outputs": [],
   "source": [
    "for i in range(0,len(chapters_df)):\n",
    "    chapters_df.iloc[i,4] = chapter_rating_mean_function(chapters_df.iloc[i,2])"
   ]
  },
  {
   "cell_type": "code",
   "execution_count": 24,
   "metadata": {},
   "outputs": [],
   "source": [
    "time.sleep(240)"
   ]
  },
  {
   "cell_type": "code",
   "execution_count": 25,
   "metadata": {},
   "outputs": [],
   "source": [
    "for i in range(0,len(chapters_df)):\n",
    "    chapters_df.iloc[i,5] = chapter_rating_std_function(chapters_df.iloc[i,2])"
   ]
  },
  {
   "cell_type": "markdown",
   "metadata": {},
   "source": [
    "#### Quick clean"
   ]
  },
  {
   "cell_type": "code",
   "execution_count": 26,
   "metadata": {},
   "outputs": [],
   "source": [
    "# Transform chapter number to int for order\n",
    "chapters_df['chapter_num'] = chapters_df['chapter_num'].astype(np.int64)\n",
    "# Order dataframe by chapter number\n",
    "chapters_df = chapters_df.sort_values('chapter_num')"
   ]
  },
  {
   "cell_type": "code",
   "execution_count": 27,
   "metadata": {},
   "outputs": [
    {
     "data": {
      "text/html": [
       "<div>\n",
       "<style scoped>\n",
       "    .dataframe tbody tr th:only-of-type {\n",
       "        vertical-align: middle;\n",
       "    }\n",
       "\n",
       "    .dataframe tbody tr th {\n",
       "        vertical-align: top;\n",
       "    }\n",
       "\n",
       "    .dataframe thead th {\n",
       "        text-align: right;\n",
       "    }\n",
       "</style>\n",
       "<table border=\"1\" class=\"dataframe\">\n",
       "  <thead>\n",
       "    <tr style=\"text-align: right;\">\n",
       "      <th></th>\n",
       "      <th>manga</th>\n",
       "      <th>chapter_num</th>\n",
       "      <th>link</th>\n",
       "      <th>total_number</th>\n",
       "      <th>mean</th>\n",
       "      <th>std</th>\n",
       "    </tr>\n",
       "  </thead>\n",
       "  <tbody>\n",
       "    <tr>\n",
       "      <th>80</th>\n",
       "      <td>Shingeki+no+Kyojin</td>\n",
       "      <td>1</td>\n",
       "      <td>https://myanimelist.net/forum/?topicid=279049&amp;...</td>\n",
       "      <td>159</td>\n",
       "      <td>4.64</td>\n",
       "      <td>0.67</td>\n",
       "    </tr>\n",
       "    <tr>\n",
       "      <th>27</th>\n",
       "      <td>Shingeki+no+Kyojin</td>\n",
       "      <td>2</td>\n",
       "      <td>https://myanimelist.net/forum/?topicid=361327&amp;...</td>\n",
       "      <td>70</td>\n",
       "      <td>4.66</td>\n",
       "      <td>0.61</td>\n",
       "    </tr>\n",
       "    <tr>\n",
       "      <th>1</th>\n",
       "      <td>Shingeki+no+Kyojin</td>\n",
       "      <td>3</td>\n",
       "      <td>https://myanimelist.net/forum/?topicid=361329&amp;...</td>\n",
       "      <td>66</td>\n",
       "      <td>4.58</td>\n",
       "      <td>0.63</td>\n",
       "    </tr>\n",
       "    <tr>\n",
       "      <th>22</th>\n",
       "      <td>Shingeki+no+Kyojin</td>\n",
       "      <td>4</td>\n",
       "      <td>https://myanimelist.net/forum/?topicid=325169&amp;...</td>\n",
       "      <td>79</td>\n",
       "      <td>4.81</td>\n",
       "      <td>0.53</td>\n",
       "    </tr>\n",
       "    <tr>\n",
       "      <th>81</th>\n",
       "      <td>Shingeki+no+Kyojin</td>\n",
       "      <td>5</td>\n",
       "      <td>https://myanimelist.net/forum/?topicid=498181&amp;...</td>\n",
       "      <td>65</td>\n",
       "      <td>4.8</td>\n",
       "      <td>0.4</td>\n",
       "    </tr>\n",
       "    <tr>\n",
       "      <th>...</th>\n",
       "      <td>...</td>\n",
       "      <td>...</td>\n",
       "      <td>...</td>\n",
       "      <td>...</td>\n",
       "      <td>...</td>\n",
       "      <td>...</td>\n",
       "    </tr>\n",
       "    <tr>\n",
       "      <th>6</th>\n",
       "      <td>Shingeki+no+Kyojin</td>\n",
       "      <td>135</td>\n",
       "      <td>https://myanimelist.net/forum/?topicid=1879687...</td>\n",
       "      <td>579</td>\n",
       "      <td>4.31</td>\n",
       "      <td>1.09</td>\n",
       "    </tr>\n",
       "    <tr>\n",
       "      <th>78</th>\n",
       "      <td>Shingeki+no+Kyojin</td>\n",
       "      <td>136</td>\n",
       "      <td>https://myanimelist.net/forum/?topicid=1887171...</td>\n",
       "      <td>657</td>\n",
       "      <td>4.32</td>\n",
       "      <td>1.14</td>\n",
       "    </tr>\n",
       "    <tr>\n",
       "      <th>79</th>\n",
       "      <td>Shingeki+no+Kyojin</td>\n",
       "      <td>137</td>\n",
       "      <td>https://myanimelist.net/forum/?topicid=1895862...</td>\n",
       "      <td>1611</td>\n",
       "      <td>3.55</td>\n",
       "      <td>1.55</td>\n",
       "    </tr>\n",
       "    <tr>\n",
       "      <th>2</th>\n",
       "      <td>Shingeki+no+Kyojin</td>\n",
       "      <td>138</td>\n",
       "      <td>https://myanimelist.net/forum/?topicid=1903003...</td>\n",
       "      <td>2167</td>\n",
       "      <td>3.82</td>\n",
       "      <td>1.52</td>\n",
       "    </tr>\n",
       "    <tr>\n",
       "      <th>139</th>\n",
       "      <td>Shingeki+no+Kyojin</td>\n",
       "      <td>139</td>\n",
       "      <td>https://myanimelist.net/forum/?topicid=1912863...</td>\n",
       "      <td>6110</td>\n",
       "      <td>2.69</td>\n",
       "      <td>1.57</td>\n",
       "    </tr>\n",
       "  </tbody>\n",
       "</table>\n",
       "<p>139 rows × 6 columns</p>\n",
       "</div>"
      ],
      "text/plain": [
       "                  manga  chapter_num  \\\n",
       "80   Shingeki+no+Kyojin            1   \n",
       "27   Shingeki+no+Kyojin            2   \n",
       "1    Shingeki+no+Kyojin            3   \n",
       "22   Shingeki+no+Kyojin            4   \n",
       "81   Shingeki+no+Kyojin            5   \n",
       "..                  ...          ...   \n",
       "6    Shingeki+no+Kyojin          135   \n",
       "78   Shingeki+no+Kyojin          136   \n",
       "79   Shingeki+no+Kyojin          137   \n",
       "2    Shingeki+no+Kyojin          138   \n",
       "139  Shingeki+no+Kyojin          139   \n",
       "\n",
       "                                                  link total_number  mean  \\\n",
       "80   https://myanimelist.net/forum/?topicid=279049&...          159  4.64   \n",
       "27   https://myanimelist.net/forum/?topicid=361327&...           70  4.66   \n",
       "1    https://myanimelist.net/forum/?topicid=361329&...           66  4.58   \n",
       "22   https://myanimelist.net/forum/?topicid=325169&...           79  4.81   \n",
       "81   https://myanimelist.net/forum/?topicid=498181&...           65   4.8   \n",
       "..                                                 ...          ...   ...   \n",
       "6    https://myanimelist.net/forum/?topicid=1879687...          579  4.31   \n",
       "78   https://myanimelist.net/forum/?topicid=1887171...          657  4.32   \n",
       "79   https://myanimelist.net/forum/?topicid=1895862...         1611  3.55   \n",
       "2    https://myanimelist.net/forum/?topicid=1903003...         2167  3.82   \n",
       "139  https://myanimelist.net/forum/?topicid=1912863...         6110  2.69   \n",
       "\n",
       "      std  \n",
       "80   0.67  \n",
       "27   0.61  \n",
       "1    0.63  \n",
       "22   0.53  \n",
       "81    0.4  \n",
       "..    ...  \n",
       "6    1.09  \n",
       "78   1.14  \n",
       "79   1.55  \n",
       "2    1.52  \n",
       "139  1.57  \n",
       "\n",
       "[139 rows x 6 columns]"
      ]
     },
     "execution_count": 27,
     "metadata": {},
     "output_type": "execute_result"
    }
   ],
   "source": [
    "chapters_df"
   ]
  },
  {
   "cell_type": "markdown",
   "metadata": {},
   "source": [
    "#### CSV Export"
   ]
  },
  {
   "cell_type": "code",
   "execution_count": 28,
   "metadata": {},
   "outputs": [],
   "source": [
    "# chapters_df.to_csv('mal_export.csv')"
   ]
  },
  {
   "cell_type": "markdown",
   "metadata": {},
   "source": [
    "#### Quick Visualizations"
   ]
  },
  {
   "cell_type": "code",
   "execution_count": 29,
   "metadata": {},
   "outputs": [
    {
     "data": {
      "image/png": "[encoded data removed]",
      "text/plain": [
       "<Figure size 432x288 with 1 Axes>"
      ]
     },
     "metadata": {
      "needs_background": "light"
     },
     "output_type": "display_data"
    }
   ],
   "source": [
    "x = chapters_df['chapter_num']\n",
    "y = chapters_df['mean']\n",
    "fig = plt.figure()\n",
    "ax = fig.add_subplot(111)\n",
    "ax.set(title = 'Average out of 5 per Chapter',\n",
    "       xlabel = 'Chapter Number',\n",
    "       ylabel = 'Average')\n",
    "ax.plot(x,y)\n",
    "plt.show()"
   ]
  },
  {
   "cell_type": "code",
   "execution_count": 30,
   "metadata": {},
   "outputs": [
    {
     "data": {
      "image/png": "[encoded data removed]",
      "text/plain": [
       "<Figure size 432x288 with 1 Axes>"
      ]
     },
     "metadata": {
      "needs_background": "light"
     },
     "output_type": "display_data"
    }
   ],
   "source": [
    "x = chapters_df['chapter_num']\n",
    "y = chapters_df['std']\n",
    "fig = plt.figure()\n",
    "ax = fig.add_subplot(111)\n",
    "ax.set(title = 'Standard Deviation per Chapter',\n",
    "       xlabel = 'Chapter Number',\n",
    "       ylabel = 'Standard Deviation')\n",
    "ax.plot(x,y)\n",
    "plt.show()"
   ]
  },
  {
   "cell_type": "code",
   "execution_count": 31,
   "metadata": {},
   "outputs": [
    {
     "data": {
      "image/png": "[encoded data removed]",
      "text/plain": [
       "<Figure size 432x288 with 1 Axes>"
      ]
     },
     "metadata": {
      "needs_background": "light"
     },
     "output_type": "display_data"
    }
   ],
   "source": [
    "x = chapters_df['chapter_num']\n",
    "y = chapters_df['total_number']\n",
    "fig = plt.figure()\n",
    "ax = fig.add_subplot(111)\n",
    "ax.set(title = 'Total Amount of Votes per Chapter',\n",
    "       xlabel = 'Chapter Number',\n",
    "       ylabel = 'Number of Votes')\n",
    "ax.plot(x,y)\n",
    "plt.show()"
   ]
  }
 ],
 "metadata": {
  "kernelspec": {
   "display_name": "Python 3",
   "language": "python",
   "name": "python3"
  },
  "language_info": {
   "codemirror_mode": {
    "name": "ipython",
    "version": 3
   },
   "file_extension": ".py",
   "mimetype": "text/x-python",
   "name": "python",
   "nbconvert_exporter": "python",
   "pygments_lexer": "ipython3",
   "version": "3.7.6"
  }
 },
 "nbformat": 4,
 "nbformat_minor": 4
}
